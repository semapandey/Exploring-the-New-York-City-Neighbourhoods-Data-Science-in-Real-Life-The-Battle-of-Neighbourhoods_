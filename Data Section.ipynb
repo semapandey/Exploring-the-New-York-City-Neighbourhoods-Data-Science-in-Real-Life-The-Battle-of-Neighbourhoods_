{
 "cells": [
  {
   "cell_type": "markdown",
   "metadata": {},
   "source": [
    "#### 3. Data Preparation ####"
   ]
  },
  {
   "cell_type": "markdown",
   "metadata": {},
   "source": [
    "The Neighborhood has a total of 5 boroughs and 306 neighborhoods. In order to segment the neighborhoods and explore them, we will essentially need a dataset that contains the 5 boroughs and the neighbourhoods that exist in each borough as well as the latitude and longitude coordinates of each neighbourhood. \n",
    "\n",
    "I will make use of  Neighborhoods in New York City page from Wiki to scrap the table to create a data-frame. For this, I will use requests and Beautifulsoup4 library to create a data-frame containing name of the 5 Boroughs wards of the City, population and 1st Major District. \n",
    "Luckily, New York neighbourhood dataset also exists for free on the web: https://geo.nyu.edu/catalog/nyu_2451_34572\n",
    "\n",
    "**3.1. Using Geopy client** : I shall get the coordinates of these 5 boroughs and 306 neighbourhoods using geocoder class of Geopy client. \n",
    "\n",
    "**3.2. Using Foursquare Location Data** : As a part of the assignment, for this business problem I will use the Foursquare API to retrieve information about the popular spots around these 5 Major Boroughs of New York. The popular spots returned depends on the highest foot traffic and thus it depends on the time when the call is made. So, we may get different popular venues depending upon different time of the day. \n",
    "The call returns a JSON file and we need to turn that into a data-frame. I will choose 100 popular spots for each major borough within a radius of 1 km. "
   ]
  },
  {
   "cell_type": "code",
   "execution_count": null,
   "metadata": {},
   "outputs": [],
   "source": []
  }
 ],
 "metadata": {
  "kernelspec": {
   "display_name": "Python",
   "language": "python",
   "name": "conda-env-python-py"
  },
  "language_info": {
   "codemirror_mode": {
    "name": "ipython",
    "version": 3
   },
   "file_extension": ".py",
   "mimetype": "text/x-python",
   "name": "python",
   "nbconvert_exporter": "python",
   "pygments_lexer": "ipython3",
   "version": "3.6.10"
  }
 },
 "nbformat": 4,
 "nbformat_minor": 4
}
