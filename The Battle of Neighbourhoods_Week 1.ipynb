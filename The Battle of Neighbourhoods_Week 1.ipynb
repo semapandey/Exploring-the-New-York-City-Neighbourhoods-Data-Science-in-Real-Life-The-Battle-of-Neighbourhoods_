{
 "cells": [
  {
   "cell_type": "markdown",
   "metadata": {},
   "source": [
    "## Exploring the New York City Neighbourhoods: Data-Science in Real Life ##"
   ]
  },
  {
   "cell_type": "markdown",
   "metadata": {},
   "source": [
    "#### 1. Problem Statement: Prospects of a Meditation Centre/Cum Tea House, Close to Office Areas in New York ####"
   ]
  },
  {
   "cell_type": "markdown",
   "metadata": {},
   "source": [
    "Although the earliest records of meditation (Dhyana), come from the Hindu traditions of Vedantism, Asian meditative techniques have spread to other cultures where they have also found application in non-spiritual contexts, such as business and health. Stress reduction is one of the most common reasons people try meditation. Meditation may be used with the aim of reducing stress, anxiety, depression, and pain, and increasing peace, perception, and well-being. \n",
    "With an estimated 2019 population of 8,336,817 distributed over about 302.6 square miles (784 km2), New York is also the most densely populated and most populous city in the United States. New York City has been described as the cultural, financial, and media capital of the world, significantly influencing commerce. Hustle bustle culture symbolising the lifestyle. \n",
    "This project aims at helping businesses to find a location to open a meditation centre in a densed office places.  I will go through the pros and cons of opening a meditation centre cum tea house in a highly densed office places."
   ]
  },
  {
   "cell_type": "markdown",
   "metadata": {},
   "source": [
    "#### 2. What type of clients or a group of people would be interested in this project? ####"
   ]
  },
  {
   "cell_type": "markdown",
   "metadata": {},
   "source": [
    "1. Business personnel who wants to invest or open a Meditation Centre cum Tea House. This analysis will be a comprehensive guide to start or expand meditation centres targeting the large pool of office workers in New York during lunch hours. It will also give an idea, how beneficial it is to open the centre and what are the pros and cons of this business.\n",
    "\n",
    "2. Office workers, to find reasonable meditation/tea house space close to office.\n",
    "\n",
    "3. Budding Data Scientists, who want to implement some of the most used Exploratory Data Analysis techniques to obtain necessary data, analyse it, and, finally be able to tell a story out of it.\n"
   ]
  }
 ],
 "metadata": {
  "kernelspec": {
   "display_name": "Python",
   "language": "python",
   "name": "conda-env-python-py"
  },
  "language_info": {
   "codemirror_mode": {
    "name": "ipython",
    "version": 3
   },
   "file_extension": ".py",
   "mimetype": "text/x-python",
   "name": "python",
   "nbconvert_exporter": "python",
   "pygments_lexer": "ipython3",
   "version": "3.6.10"
  }
 },
 "nbformat": 4,
 "nbformat_minor": 4
}
